# Cell 1: Imports
import numpy as np
import matplotlib.pyplot as plt
import seaborn as sns
from sklearn.metrics import confusion_matrix

# Cell 2: Simulated Training History Data
history = {
    'accuracy':        [0.58, 0.72, 0.81, 0.86, 0.91, 0.93, 0.95, 0.96],
    'val_accuracy':    [0.56, 0.70, 0.78, 0.84, 0.88, 0.90, 0.91, 0.91],
    'loss':            [1.2, 0.8, 0.5, 0.4, 0.3, 0.25, 0.20, 0.18],
    'val_loss':        [1.3, 0.9, 0.6, 0.5, 0.4, 0.32, 0.30, 0.28],
}

# Cell 3: Plot Accuracy & Loss
plt.figure(figsize=(10, 4))
plt.subplot(1, 2, 1)
plt.plot(history['accuracy'], label='Train Accuracy')
plt.plot(history['val_accuracy'], label='Val Accuracy')
plt.title("Model Accuracy")
plt.xlabel("Epoch")
plt.ylabel("Accuracy")
plt.legend()

plt.subplot(1, 2, 2)
plt.plot(history['loss'], label='Train Loss')
plt.plot(history['val_loss'], label='Val Loss')
plt.title("Model Loss")
plt.xlabel("Epoch")
plt.ylabel("Loss")
plt.legend()

plt.tight_layout()
plt.show()

# Cell 4: Simulated Confusion Matrix
true = ['Plastic', 'Metal', 'Glass', 'Plastic', 'Jug', 'Spray', 'Sipper', 'Sipper', 'Glass', 'Metal']
pred = ['Plastic', 'Metal', 'Glass', 'Plastic', 'Jug', 'Jug', 'Sipper', 'Spray', 'Glass', 'Metal']

labels = ['Plastic', 'Metal', 'Glass', 'Sipper', 'Spray', 'Jug']
cm = confusion_matrix(true, pred, labels=labels)

plt.figure(figsize=(6, 4))
sns.heatmap(cm, annot=True, fmt="d", cmap="Blues", xticklabels=labels, yticklabels=labels)
plt.xlabel("Predicted")
plt.ylabel("Actual")
plt.title("Confusion Matrix")
plt.show()

# Cell 5: Simulated Streamlit Output Example
print("📷 Uploaded Image: metal_bottle.jpg")
print("✅ Predicted Class: Metal")
print("📊 Confidence Score: 92.3%")
